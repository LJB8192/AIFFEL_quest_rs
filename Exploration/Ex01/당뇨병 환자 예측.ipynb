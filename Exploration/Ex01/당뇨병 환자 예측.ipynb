{
 "cells": [
  {
   "cell_type": "code",
   "execution_count": 36,
   "id": "95286319",
   "metadata": {},
   "outputs": [],
   "source": [
    "from sklearn.datasets import load_diabetes\n",
    "from sklearn.model_selection import train_test_split\n",
    "import numpy as np\n",
    "diabetes = load_diabetes()"
   ]
  },
  {
   "cell_type": "code",
   "execution_count": 37,
   "id": "90c694c4",
   "metadata": {},
   "outputs": [],
   "source": [
    "df_x = diabetes.data\n",
    "df_y = diabetes.target\n",
    "df_x = np.array(df_x)\n",
    "d_y = np.array(df_y)"
   ]
  },
  {
   "cell_type": "code",
   "execution_count": 38,
   "id": "57557751",
   "metadata": {},
   "outputs": [
    {
     "name": "stdout",
     "output_type": "stream",
     "text": [
      "(442, 10)\n",
      "(442,)\n"
     ]
    }
   ],
   "source": [
    "print(df_x.shape)\n",
    "print(df_y.shape)"
   ]
  },
  {
   "cell_type": "code",
   "execution_count": 39,
   "id": "43e68026",
   "metadata": {},
   "outputs": [
    {
     "name": "stdout",
     "output_type": "stream",
     "text": [
      "feature 1 : age\n",
      "feature 2 : sex\n",
      "feature 3 : bmi\n",
      "feature 4 : bp\n",
      "feature 5 : s1\n",
      "feature 6 : s2\n",
      "feature 7 : s3\n",
      "feature 8 : s4\n",
      "feature 9 : s5\n",
      "feature 10 : s6\n"
     ]
    }
   ],
   "source": [
    "for i, feature_name in enumerate(diabetes.feature_names):\n",
    "    print(f'feature {i+1} : {feature_name}')"
   ]
  },
  {
   "cell_type": "code",
   "execution_count": 40,
   "id": "5ce598dd",
   "metadata": {},
   "outputs": [
    {
     "data": {
      "text/plain": [
       "['age', 'sex', 'bmi', 'bp', 's1', 's2', 's3', 's4', 's5', 's6']"
      ]
     },
     "execution_count": 40,
     "metadata": {},
     "output_type": "execute_result"
    }
   ],
   "source": [
    "diabetes.feature_names"
   ]
  },
  {
   "cell_type": "code",
   "execution_count": 41,
   "id": "f19733dd",
   "metadata": {},
   "outputs": [],
   "source": [
    "X_train, X_test, y_train, y_test = train_test_split(df_x, df_y, test_size=0.2, random_state=42)"
   ]
  },
  {
   "cell_type": "code",
   "execution_count": 42,
   "id": "8c884686",
   "metadata": {},
   "outputs": [
    {
     "data": {
      "text/plain": [
       "array([[0.35420213],\n",
       "       [0.85934499],\n",
       "       [0.18940416],\n",
       "       [0.89267179],\n",
       "       [0.537985  ],\n",
       "       [0.64516059],\n",
       "       [0.20802881],\n",
       "       [0.74327168],\n",
       "       [0.13444966],\n",
       "       [0.55769622]])"
      ]
     },
     "execution_count": 42,
     "metadata": {},
     "output_type": "execute_result"
    }
   ],
   "source": [
    "W = np.random.rand(10,1)\n",
    "b = np.random.rand(1,1)\n",
    "W"
   ]
  },
  {
   "cell_type": "code",
   "execution_count": 43,
   "id": "2200db6c",
   "metadata": {},
   "outputs": [],
   "source": [
    "def model(W, b, X):\n",
    "    Y = X.dot(W) + b\n",
    "    return Y"
   ]
  },
  {
   "cell_type": "code",
   "execution_count": 44,
   "id": "f155db11",
   "metadata": {},
   "outputs": [
    {
     "data": {
      "text/plain": [
       "(353, 1)"
      ]
     },
     "execution_count": 44,
     "metadata": {},
     "output_type": "execute_result"
    }
   ],
   "source": [
    "y = model(W, b, X_train)\n",
    "y_train.shape\n",
    "y.shape"
   ]
  },
  {
   "cell_type": "code",
   "execution_count": 45,
   "id": "2e1bc712",
   "metadata": {},
   "outputs": [],
   "source": [
    "def RMSE(a, b):\n",
    "    mse = ((a - b) ** 2).mean()  # 두 값의 차이의 제곱의 평균\n",
    "    rmse = mse ** 0.5        # MSE의 제곱근\n",
    "    return rmse"
   ]
  },
  {
   "cell_type": "code",
   "execution_count": 46,
   "id": "f96b252c",
   "metadata": {},
   "outputs": [],
   "source": [
    "def loss(x, w, b, y):\n",
    "    predictions = model(w, b, x)\n",
    "    L = RMSE(predictions, y)\n",
    "    return L\n",
    "L = loss(X_train, W, b, y_train)"
   ]
  },
  {
   "cell_type": "code",
   "execution_count": 47,
   "id": "ee3b57d4",
   "metadata": {},
   "outputs": [],
   "source": [
    "def gradient(x, w, b, y):\n",
    "    dw = np.random.rand(10,1)\n",
    "    w2 = w.copy()\n",
    "    for i in range(0,9):\n",
    "        w2[i] = w[i] + 0.0001\n",
    "        dw[i] = (loss(x, w2, b, y) - loss(x, w, b, y)) / 0.0001\n",
    "        db = (loss(x, w2, b + 0.0001, y) - loss(x, w, b, y)) / 0.0001\n",
    "    return dw, db"
   ]
  },
  {
   "cell_type": "code",
   "execution_count": 48,
   "id": "74225301",
   "metadata": {},
   "outputs": [],
   "source": [
    "def RMSE(a, b):\n",
    "    mse = ((a - b) ** 2).mean()  # 두 값의 차이의 제곱의 평균\n",
    "    rmse = mse ** 0.5        # MSE의 제곱근\n",
    "    return rmse"
   ]
  },
  {
   "cell_type": "code",
   "execution_count": 49,
   "id": "43923083",
   "metadata": {},
   "outputs": [
    {
     "data": {
      "text/plain": [
       "array([[-0.0012661 ],\n",
       "       [-0.00141075],\n",
       "       [-0.00293728],\n",
       "       [-0.00396266],\n",
       "       [-0.00343909],\n",
       "       [-0.00269266],\n",
       "       [-0.00182665],\n",
       "       [-0.00213228],\n",
       "       [-0.00319044],\n",
       "       [ 0.01207486]])"
      ]
     },
     "execution_count": 49,
     "metadata": {},
     "output_type": "execute_result"
    }
   ],
   "source": [
    "dW, db = gradient(X_train, W, b, y_train)   # 3, 4번: 모델이 prediction을 예측하고, 손실함수값을 계산함과 동시에 기울기 계산\n",
    "dW"
   ]
  },
  {
   "cell_type": "code",
   "execution_count": 54,
   "id": "e912c441",
   "metadata": {},
   "outputs": [
    {
     "name": "stdout",
     "output_type": "stream",
     "text": [
      "Iteration 100 : Loss 148.6393\n",
      "Iteration 200 : Loss 141.5070\n",
      "Iteration 300 : Loss 134.6750\n",
      "Iteration 400 : Loss 128.1749\n",
      "Iteration 500 : Loss 122.0385\n",
      "Iteration 600 : Loss 116.3008\n",
      "Iteration 700 : Loss 110.9915\n",
      "Iteration 800 : Loss 106.1362\n",
      "Iteration 900 : Loss 101.7506\n",
      "Iteration 1000 : Loss 97.8449\n",
      "Iteration 1100 : Loss 94.4168\n",
      "Iteration 1200 : Loss 91.4521\n",
      "Iteration 1300 : Loss 88.9279\n",
      "Iteration 1400 : Loss 86.8067\n",
      "Iteration 1500 : Loss 85.0510\n",
      "Iteration 1600 : Loss 83.6154\n",
      "Iteration 1700 : Loss 82.4518\n",
      "Iteration 1800 : Loss 81.5206\n",
      "Iteration 1900 : Loss 80.7820\n"
     ]
    },
    {
     "data": {
      "text/plain": [
       "54.79595687382539"
      ]
     },
     "execution_count": 54,
     "metadata": {},
     "output_type": "execute_result"
    }
   ],
   "source": [
    "LEARNING_RATE = 0.1\n",
    "losses = []\n",
    "for i in range(1, 2000):\n",
    "    dW, db = gradient(X_train, W, b, y_train)   # 3, 4번: 모델이 prediction을 예측하고, 손실함수값을 계산함과 동시에 기울기 계산\n",
    "    W -= LEARNING_RATE * dW         # 5번: w = w - η * dw 로 업데이트\n",
    "    b -= LEARNING_RATE * db         # 5번: b = b - η * db 로 업데이트 \n",
    "    L = loss(X_train, W, b, y_train)            # 현재의 loss 값 계산\n",
    "    losses.append(L)                # loss 값 기록\n",
    "    if i % 100 == 0:\n",
    "        print('Iteration %d : Loss %0.4f' % (i, L))\n",
    "        \n",
    "def MAPE(y_test, y_pred):\n",
    "    return np.mean(np.abs((y_test - y_pred) / y_test)) * 100 \n",
    "\n",
    "y_test_predict = X_test.dot(W) + b\n",
    "MAPE(y_test, y_test_predict)"
   ]
  },
  {
   "cell_type": "code",
   "execution_count": 52,
   "id": "5f853818",
   "metadata": {},
   "outputs": [
    {
     "data": {
      "image/png": "[encoded data removed]",
      "text/plain": [
       "<Figure size 432x288 with 1 Axes>"
      ]
     },
     "metadata": {
      "needs_background": "light"
     },
     "output_type": "display_data"
    }
   ],
   "source": [
    "import matplotlib.pyplot as plt\n",
    "\n",
    "x = np.arange(50, 300, 0.01)\n",
    "y = np.arange(50, 300, 0.01)\n",
    "plt.scatter(y_test, y_test_predict)\n",
    "plt.xlabel(\"True\")\n",
    "plt.ylabel(\"Prediction\")\n",
    "plt.title(\"True - Prediction Graph\")\n",
    "plt.show()"
   ]
  },
  {
   "cell_type": "code",
   "execution_count": 56,
   "id": "9b0075c8",
   "metadata": {},
   "outputs": [
    {
     "name": "stdout",
     "output_type": "stream",
     "text": [
      "2900.1732878832318\n"
     ]
    },
    {
     "data": {
      "text/plain": [
       "37.49981253089933"
      ]
     },
     "execution_count": 56,
     "metadata": {},
     "output_type": "execute_result"
    }
   ],
   "source": [
    "from sklearn.linear_model import LinearRegression\n",
    "from sklearn.metrics import mean_squared_error\n",
    "\n",
    "df_x = diabetes.data\n",
    "df_y = diabetes.target\n",
    "df_x = np.array(df_x)\n",
    "d_y = np.array(df_y)\n",
    "\n",
    "X_train, X_test, y_train, y_test = train_test_split(df_x, df_y, test_size=0.2, random_state=42)\n",
    "\n",
    "linear_regression_model = LinearRegression()  #선형 회귀 모델을 가지고 오고 \n",
    "linear_regression_model.fit(X_train, y_train)  #학습 데이터를 이용해서 모델을 학습 시킨다\n",
    "\n",
    "linear_regression_model.coef_ #θ1~ 값\n",
    "linear_regression_model.intercept_ #θ0값\n",
    "\n",
    "y_test_predict = linear_regression_model.predict(X_test) #학습시킨 모델로 예측\n",
    "\n",
    "#평균 제곱 오차의 루트를 통해서 테스트 데이터에서의 모델 성능 판단\n",
    "mse = mean_squared_error(y_test, y_test_predict)\n",
    "\n",
    "print(mse)\n",
    "\n",
    "def MAPE(y_test, y_pred):\n",
    "    return np.mean(np.abs((y_test - y_pred) / y_test)) * 100 \n",
    "    \n",
    "MAPE(y_test, y_test_predict)"
   ]
  },
  {
   "cell_type": "code",
   "execution_count": 57,
   "id": "4f4c3cd8",
   "metadata": {},
   "outputs": [
    {
     "data": {
      "image/png": "[encoded data removed]",
      "text/plain": [
       "<Figure size 432x288 with 1 Axes>"
      ]
     },
     "metadata": {
      "needs_background": "light"
     },
     "output_type": "display_data"
    }
   ],
   "source": [
    "import matplotlib.pyplot as plt\n",
    "\n",
    "\n",
    "x = np.arange(50, 350, 0.01)\n",
    "y = np.arange(50, 350, 0.01)\n",
    "plt.scatter(y_test, y_test_predict)\n",
    "plt.plot(x,y, color = \"red\")\n",
    "plt.xlabel(\"True\")\n",
    "plt.ylabel(\"Prediction\")\n",
    "plt.title(\"True - Prediction Graph\")\n",
    "plt.show()"
   ]
  },
  {
   "cell_type": "code",
   "execution_count": null,
   "id": "e34a90cc",
   "metadata": {},
   "outputs": [],
   "source": []
  }
 ],
 "metadata": {
  "kernelspec": {
   "display_name": "Python 3 (ipykernel)",
   "language": "python",
   "name": "python3"
  },
  "language_info": {
   "codemirror_mode": {
    "name": "ipython",
    "version": 3
   },
   "file_extension": ".py",
   "mimetype": "text/x-python",
   "name": "python",
   "nbconvert_exporter": "python",
   "pygments_lexer": "ipython3",
   "version": "3.9.7"
  }
 },
 "nbformat": 4,
 "nbformat_minor": 5
}
